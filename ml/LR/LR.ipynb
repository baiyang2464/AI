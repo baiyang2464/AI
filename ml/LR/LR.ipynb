{
 "cells": [
  {
   "cell_type": "code",
   "execution_count": 60,
   "metadata": {},
   "outputs": [],
   "source": [
    "import numpy as np \n",
    "import pandas as pd \n",
    "import matplotlib.pyplot as plt"
   ]
  },
  {
   "cell_type": "markdown",
   "metadata": {},
   "source": [
    "sigmoid公式\n",
    "$$z(x) = wx+b$$\n",
    "$$S(x) = \\frac{1}{1 + e^{-z(x)}}$$"
   ]
  },
  {
   "cell_type": "code",
   "execution_count": 39,
   "metadata": {},
   "outputs": [],
   "source": [
    "def sigmoid(X,w,b):#向量都是行向量,X的维度(n,m)，n-特征数，m-样本数\n",
    "    z = np.dot(w,X)+b \n",
    "    return 1/(1+np.exp(-z))"
   ]
  },
  {
   "cell_type": "markdown",
   "metadata": {},
   "source": [
    "目标函数\n",
    "$$J(\\theta) = -\\frac{ 1 }{ m }[\\sum_{ i=1 }^{ m } ({y^{(i)} \\log h_\\theta(x^{(i)}) + (1-y^{(i)}) \\log (1-h_\\theta(x^{(i)})})]$$\n",
    "m：训练样本的个数；\n",
    "\n",
    "hθ(x)：用参数θ和x预测出来的y值；\n",
    "\n",
    "y：原训练样本中的y值，也就是标准答案\n",
    "\n",
    "上角标(i)：第i个样本"
   ]
  },
  {
   "cell_type": "code",
   "execution_count": 80,
   "metadata": {},
   "outputs": [],
   "source": [
    "#目标函数\n",
    "def J(y,pred):#默认输入的是行向量\n",
    "    m= y.shape[1]\n",
    "    res = np.random.rand(1,m)\n",
    "    for i in range(m):\n",
    "        p_i = pred[0,i]\n",
    "        if p_i==0:\n",
    "            p_i =1\n",
    "        p_minus = 1-pred[0,i]\n",
    "        if p_minus == 0:\n",
    "            p_minus = 1\n",
    "        res[:,i] = y[:,i]*np.log(p_i)+(1-y[:,i])*np.log(p_minus)\n",
    "        res[:,i] = -res[:,i]\n",
    "    return (1/m)*(np.sum(res))"
   ]
  },
  {
   "cell_type": "code",
   "execution_count": 81,
   "metadata": {},
   "outputs": [],
   "source": [
    "#梯度降\n",
    "#更新w和b\n",
    "def bgd(y,pred,X,w,b):#向量都是行向量\n",
    "    dz = pred - y\n",
    "    m = y.shape[1]\n",
    "    dw = (1/m)*np.dot(dz,X.T)\n",
    "    db = (1/m)*np.sum(dz)\n",
    "    return dw,db"
   ]
  },
  {
   "cell_type": "code",
   "execution_count": 79,
   "metadata": {},
   "outputs": [],
   "source": [
    "#LR回归模型\n",
    "def LR(X,y,maxloop=10000,eta=0.1):\n",
    "    m,n = X.shape #m条样本，n个特征\n",
    "    w = np.random.rand(1,n)\n",
    "    b = 0\n",
    "    loss = []\n",
    "    pred = sigmoid(X.T,w,b)\n",
    "    loss.append(J(y.T,pred))\n",
    "    step = 0\n",
    "    for i in range(maxloop):\n",
    "        step+=1\n",
    "        dw,db = bgd(y.T,pred,X.T,w,b)\n",
    "        w = w - eta * dw\n",
    "        b = b - eta * db\n",
    "        pred = sigmoid(X.T,w,b)\n",
    "        loss.append(J(y.T,pred))\n",
    "        if np.abs(loss[-1]-loss[-2])<0.000001: #损失函数渐少到一定程度停止训练\n",
    "            break;\n",
    "    return w,b,loss,step #返回参数"
   ]
  },
  {
   "cell_type": "code",
   "execution_count": 82,
   "metadata": {},
   "outputs": [],
   "source": [
    "#读入数据\n",
    "def loadDataSet(filename):\n",
    "    X = []\n",
    "    Y = []\n",
    "    with open(filename, 'rb') as f:\n",
    "        for idx, line in enumerate(f):\n",
    "            line = line.decode('utf-8').strip()\n",
    "            if not line:\n",
    "                continue\n",
    "            eles = line.split()\n",
    "            eles = list(map(float, eles))\n",
    "            \n",
    "            if idx == 0:\n",
    "                numFea = len(eles)\n",
    "            X.append(eles[:-1])\n",
    "            Y.append([eles[-1]])\n",
    "    return np.array(X), np.array(Y)"
   ]
  },
  {
   "cell_type": "code",
   "execution_count": 83,
   "metadata": {},
   "outputs": [
    {
     "name": "stdout",
     "output_type": "stream",
     "text": [
      "0.09847662693445573\n",
      "12.498394966125488\n",
      "8722\n"
     ]
    }
   ],
   "source": [
    "X,y = loadDataSet('./linear.txt')\n",
    " # 训练模型\n",
    "import time\n",
    "start = time.time()\n",
    "w, b, loss,steps = LR(X,y)\n",
    "end = time.time()\n",
    "btime = end - start\n",
    "print(loss[-1])\n",
    "print(btime)\n",
    "print(steps)"
   ]
  },
  {
   "cell_type": "code",
   "execution_count": 85,
   "metadata": {},
   "outputs": [
    {
     "data": {
      "image/png": "[encoded data removed]",
      "text/plain": [
       "<Figure size 432x288 with 1 Axes>"
      ]
     },
     "metadata": {
      "needs_background": "light"
     },
     "output_type": "display_data"
    }
   ],
   "source": [
    "#画出损失函数变化的图\n",
    "fig = plt.figure()\n",
    "ax = fig.add_subplot(312)#三个数字分别代表行、列及本图所处位置\n",
    "#ax.axis([-5,5,0,1])#设置x轴最小、最大值，y轴最小、最大值；\n",
    "#ax.scatter(xcord1,ycord1, s=30, c='red', marker='s')  #用于画散点图；\n",
    "#ax.plot(x, y)#用于画线图；\n",
    "ax.plot(loss)#用于画线图；\n",
    "plt.title(\"loss\")#图形添加标题；\n",
    "plt.xlabel('steps')\n",
    "plt.ylabel('loss')#分别对坐标轴添加标题\n",
    "plt.show()#显示图形；"
   ]
  },
  {
   "cell_type": "code",
   "execution_count": 91,
   "metadata": {},
   "outputs": [
    {
     "data": {
      "image/png": "[encoded data removed]",
      "text/plain": [
       "<Figure size 432x288 with 1 Axes>"
      ]
     },
     "metadata": {
      "needs_background": "light"
     },
     "output_type": "display_data"
    }
   ],
   "source": [
    "# 用pylab绘制决策边界\n",
    "for i in range(X.shape[0]):                                    #绘制样本点\n",
    "    x = X[i]\n",
    "    if y[i] == 1:\n",
    "        plt.scatter(x[0], x[1], marker='*', color='blue', s=50)         \n",
    "    else:\n",
    "        plt.scatter(x[0], x[1], marker='o', color='green', s=50)\n",
    "\n",
    "hSpots = np.linspace(X[:,1].min(), X[:,1].max(), 100)  #分界线x轴的点\n",
    "theta1, theta2 = w[-1]\n",
    "theta0 = b\n",
    "vSpots = -(theta0+theta1*hSpots)/theta2                #分界线y轴的点\n",
    "#两个特征的分界线的数学公式：theta0+theta1*x+theta2*y=0 theta0是偏执项\n",
    "plt.plot(hSpots, vSpots, color='red', linewidth=.5)    #打点-连线，绘制分界线\n",
    "plt.xlabel(r'$x_1$')                                   #x轴名称\n",
    "plt.ylabel(r'$x_2$')                                   #y轴名称\n",
    "plt.show()"
   ]
  }
 ],
 "metadata": {
  "kernelspec": {
   "display_name": "Python 3",
   "language": "python",
   "name": "python3"
  },
  "language_info": {
   "codemirror_mode": {
    "name": "ipython",
    "version": 3
   },
   "file_extension": ".py",
   "mimetype": "text/x-python",
   "name": "python",
   "nbconvert_exporter": "python",
   "pygments_lexer": "ipython3",
   "version": "3.7.0"
  }
 },
 "nbformat": 4,
 "nbformat_minor": 2
}
