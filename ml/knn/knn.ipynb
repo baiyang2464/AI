{
 "cells": [
  {
   "cell_type": "code",
   "execution_count": 1,
   "metadata": {},
   "outputs": [],
   "source": [
    "import numpy as np \n",
    "import pandas as pd "
   ]
  },
  {
   "cell_type": "code",
   "execution_count": 2,
   "metadata": {},
   "outputs": [
    {
     "data": {
      "text/html": [
       "<div>\n",
       "<style scoped>\n",
       "    .dataframe tbody tr th:only-of-type {\n",
       "        vertical-align: middle;\n",
       "    }\n",
       "\n",
       "    .dataframe tbody tr th {\n",
       "        vertical-align: top;\n",
       "    }\n",
       "\n",
       "    .dataframe thead th {\n",
       "        text-align: right;\n",
       "    }\n",
       "</style>\n",
       "<table border=\"1\" class=\"dataframe\">\n",
       "  <thead>\n",
       "    <tr style=\"text-align: right;\">\n",
       "      <th></th>\n",
       "      <th>Unnamed: 0</th>\n",
       "      <th>Sepal.Length</th>\n",
       "      <th>Sepal.Width</th>\n",
       "      <th>Petal.Length</th>\n",
       "      <th>Petal.Width</th>\n",
       "      <th>Species</th>\n",
       "    </tr>\n",
       "  </thead>\n",
       "  <tbody>\n",
       "    <tr>\n",
       "      <th>0</th>\n",
       "      <td>4</td>\n",
       "      <td>4.6</td>\n",
       "      <td>3.1</td>\n",
       "      <td>1.5</td>\n",
       "      <td>0.2</td>\n",
       "      <td>0</td>\n",
       "    </tr>\n",
       "    <tr>\n",
       "      <th>1</th>\n",
       "      <td>141</td>\n",
       "      <td>6.7</td>\n",
       "      <td>3.1</td>\n",
       "      <td>5.6</td>\n",
       "      <td>2.4</td>\n",
       "      <td>2</td>\n",
       "    </tr>\n",
       "    <tr>\n",
       "      <th>2</th>\n",
       "      <td>37</td>\n",
       "      <td>5.5</td>\n",
       "      <td>3.5</td>\n",
       "      <td>1.3</td>\n",
       "      <td>0.2</td>\n",
       "      <td>0</td>\n",
       "    </tr>\n",
       "    <tr>\n",
       "      <th>3</th>\n",
       "      <td>34</td>\n",
       "      <td>5.5</td>\n",
       "      <td>4.2</td>\n",
       "      <td>1.4</td>\n",
       "      <td>0.2</td>\n",
       "      <td>0</td>\n",
       "    </tr>\n",
       "    <tr>\n",
       "      <th>4</th>\n",
       "      <td>32</td>\n",
       "      <td>5.4</td>\n",
       "      <td>3.4</td>\n",
       "      <td>1.5</td>\n",
       "      <td>0.4</td>\n",
       "      <td>0</td>\n",
       "    </tr>\n",
       "  </tbody>\n",
       "</table>\n",
       "</div>"
      ],
      "text/plain": [
       "   Unnamed: 0  Sepal.Length  Sepal.Width  Petal.Length  Petal.Width  Species\n",
       "0           4           4.6          3.1           1.5          0.2        0\n",
       "1         141           6.7          3.1           5.6          2.4        2\n",
       "2          37           5.5          3.5           1.3          0.2        0\n",
       "3          34           5.5          4.2           1.4          0.2        0\n",
       "4          32           5.4          3.4           1.5          0.4        0"
      ]
     },
     "execution_count": 2,
     "metadata": {},
     "output_type": "execute_result"
    }
   ],
   "source": [
    "#处理数据，将数据打乱，将字符型标签映射成数字\n",
    "iris = pd.read_csv(\"./iris.csv\")\n",
    "data=iris.sample(frac=1).reset_index(drop=True) #打乱数据\n",
    "catogory = {'setosa':0,'versicolor':1,'virginica':2} #将分类做映射，学习器只能输入数值类型的数据\n",
    "data['Species'] = data['Species'].map(catogory)\n",
    "data.head()"
   ]
  },
  {
   "cell_type": "code",
   "execution_count": null,
   "metadata": {},
   "outputs": [],
   "source": [
    "#knn算法实现"
   ]
  },
  {
   "cell_type": "code",
   "execution_count": 5,
   "metadata": {},
   "outputs": [],
   "source": [
    "#距离度量——计算欧式距离\n",
    "def calDistance(veca,vecb):#输入向量必须是np.array一维数组\n",
    "    return np.sqrt(np.sum(np.square(veca-vecb)))"
   ]
  },
  {
   "cell_type": "code",
   "execution_count": 6,
   "metadata": {},
   "outputs": [],
   "source": [
    "#分类决策——投票原则\n",
    "def maxVoter(arr):\n",
    "    dic = {}\n",
    "    for item in arr:#统计各类别出现的次数\n",
    "        if item not in dic:\n",
    "            dic[item] = 1 \n",
    "        else:\n",
    "            dic[item] +=1 \n",
    "    return max(dic,key=dic.get)#输出类别出现次数最多的类"
   ]
  },
  {
   "cell_type": "code",
   "execution_count": 7,
   "metadata": {},
   "outputs": [],
   "source": [
    "#用线性搜索法找到与输入用例最相似的k条数据\n",
    "#用投票的方法得出实例的类别\n",
    "data['Dist'] = 0 \n",
    "def knn(k,target,data):\n",
    "    m,n = data.shape\n",
    "    for row in range(m):\n",
    "        curV = data.drop(columns=['Species','Dist'],axis=1).loc[row,:].values\n",
    "        data.loc[row,'Dist'] = calDistance(target,curV)#计算用例与训练数据集合中样本的距离\n",
    "    kRows=data.sort_values(by ='Dist',ascending=True).iloc[0:k,:] #按距离进行递增排序，选出距离最近的前5条\n",
    "    pred = maxVoter(kRows['Species'].values)#投票得出分类结果\n",
    "    return pred"
   ]
  },
  {
   "cell_type": "code",
   "execution_count": 8,
   "metadata": {},
   "outputs": [],
   "source": [
    "#将150条数据前100条分成训练数据，后50条分成测试数据\n",
    "train = data.loc[:100,:]\n",
    "test = data.loc[100:,:].reset_index(drop=True)"
   ]
  },
  {
   "cell_type": "code",
   "execution_count": 14,
   "metadata": {},
   "outputs": [
    {
     "name": "stderr",
     "output_type": "stream",
     "text": [
      "C:\\Users\\11060\\Anaconda3\\lib\\site-packages\\pandas\\core\\indexing.py:543: SettingWithCopyWarning: \n",
      "A value is trying to be set on a copy of a slice from a DataFrame.\n",
      "Try using .loc[row_indexer,col_indexer] = value instead\n",
      "\n",
      "See the caveats in the documentation: http://pandas.pydata.org/pandas-docs/stable/indexing.html#indexing-view-versus-copy\n",
      "  self.obj[item] = s\n"
     ]
    },
    {
     "name": "stdout",
     "output_type": "stream",
     "text": [
      "step is 0, predict virginica to virginica\n",
      "step is 1, predict versicolor to versicolor\n",
      "step is 2, predict setosa to setosa\n",
      "step is 3, predict versicolor to versicolor\n",
      "step is 4, predict versicolor to versicolor\n",
      "step is 5, predict virginica to virginica\n",
      "step is 6, predict versicolor to versicolor\n",
      "step is 7, predict setosa to setosa\n",
      "step is 8, predict virginica to virginica\n",
      "step is 9, predict versicolor to versicolor\n",
      "step is 10, predict setosa to setosa\n",
      "step is 11, predict virginica to virginica\n",
      "step is 12, predict setosa to setosa\n",
      "step is 13, predict versicolor to versicolor\n",
      "step is 14, predict versicolor to versicolor\n",
      "step is 15, predict versicolor to versicolor\n",
      "step is 16, predict virginica to virginica\n",
      "step is 17, predict virginica to versicolor\n",
      "step is 18, predict virginica to virginica\n",
      "step is 19, predict setosa to setosa\n",
      "step is 20, predict setosa to versicolor\n",
      "step is 21, predict versicolor to versicolor\n",
      "step is 22, predict virginica to virginica\n",
      "step is 23, predict versicolor to versicolor\n",
      "step is 24, predict versicolor to versicolor\n",
      "step is 25, predict versicolor to versicolor\n",
      "step is 26, predict virginica to virginica\n",
      "step is 27, predict versicolor to versicolor\n",
      "step is 28, predict versicolor to versicolor\n",
      "step is 29, predict versicolor to versicolor\n",
      "step is 30, predict versicolor to versicolor\n",
      "step is 31, predict setosa to setosa\n",
      "step is 32, predict versicolor to versicolor\n",
      "step is 33, predict setosa to setosa\n",
      "step is 34, predict setosa to setosa\n",
      "step is 35, predict versicolor to versicolor\n",
      "step is 36, predict setosa to setosa\n",
      "step is 37, predict virginica to virginica\n",
      "step is 38, predict virginica to virginica\n",
      "step is 39, predict setosa to setosa\n",
      "step is 40, predict setosa to setosa\n",
      "step is 41, predict virginica to virginica\n",
      "step is 42, predict virginica to virginica\n",
      "step is 43, predict setosa to setosa\n",
      "step is 44, predict versicolor to versicolor\n",
      "step is 45, predict setosa to setosa\n",
      "step is 46, predict setosa to setosa\n",
      "step is 47, predict virginica to versicolor\n",
      "step is 48, predict setosa to setosa\n",
      "step is 49, predict virginica to virginica\n",
      "accuracy is 0.940000\n"
     ]
    }
   ],
   "source": [
    "#训练 和 预测\n",
    "count = 0\n",
    "catogoryReverse = {0:'setosa',1:'versicolor',2:'virginica'}\n",
    "for i in range(test.shape[0]):\n",
    "    pred = knn(5,test.drop(columns=['Species','Dist'],axis=1).iloc[i,:].values,train)\n",
    "    y = test.loc[i,'Species']\n",
    "    print(\"step is %d, predict %s to %s\"%(i,catogoryReverse[y],catogoryReverse[pred]))\n",
    "    if pred !=y:\n",
    "        count+=1\n",
    "print(\"accuracy is %f\"%(1-float(count/test.shape[0])))"
   ]
  }
 ],
 "metadata": {
  "kernelspec": {
   "display_name": "Python 3",
   "language": "python",
   "name": "python3"
  },
  "language_info": {
   "codemirror_mode": {
    "name": "ipython",
    "version": 3
   },
   "file_extension": ".py",
   "mimetype": "text/x-python",
   "name": "python",
   "nbconvert_exporter": "python",
   "pygments_lexer": "ipython3",
   "version": "3.7.0"
  }
 },
 "nbformat": 4,
 "nbformat_minor": 2
}
