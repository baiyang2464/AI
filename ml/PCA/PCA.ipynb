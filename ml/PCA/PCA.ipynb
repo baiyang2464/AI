{
 "cells": [
  {
   "cell_type": "code",
   "execution_count": 1,
   "metadata": {},
   "outputs": [],
   "source": [
    "import numpy as np\n",
    "import matplotlib.pyplot as plt "
   ]
  },
  {
   "cell_type": "markdown",
   "metadata": {},
   "source": [
    "PCA算法步骤\n",
    "1. 中心化：对数据X特征的每个维度取均值，数据每个维度的值再减去相应的均值\n",
    "2. 对中心化后的数据X'求协方差矩阵\n",
    "3. 对协方差矩阵求特征之及特征向量\n",
    "4. 对特征向量按特征值的大小降序排列，选择前k个特征向量组成变换矩阵\n",
    "5. X'乘以变换矩阵，得到降维后的数据Y"
   ]
  },
  {
   "cell_type": "code",
   "execution_count": 38,
   "metadata": {},
   "outputs": [],
   "source": [
    "def PCA(X,k):#X维度为m*n，m条数据，n条特征，k为指定降维后的特征维度，k<n\n",
    "    m,n = X.shape\n",
    "    if k >= n or k <1:\n",
    "        k = n\n",
    "    #中心化\n",
    "    X = X - np.mean(X,axis=0,keepdims=True) \n",
    "    #求协方差矩阵\n",
    "    cov_matrix = np.cov(X.T)#cov是按X的行计算协方差，但是我们是要按列计算，所以要转置\n",
    "    #对协方差矩阵求特征之及特征向量\n",
    "    eig_val, eig_vec = np.linalg.eig(cov_matrix)\n",
    "    #对特征向量按特征值的大小降序排列\n",
    "    eig_pairs = [(np.abs(eig_val[i]), eig_vec[:,i]) for i in range(n)]\n",
    "    eig_pairs.sort(reverse=True)\n",
    "    #选择前k个特征向量组成变换矩阵\n",
    "    feature=np.array([ele[1] for ele in eig_pairs[:k]]) \n",
    "    return np.dot(X,feature.T)"
   ]
  },
  {
   "cell_type": "code",
   "execution_count": 40,
   "metadata": {},
   "outputs": [],
   "source": [
    "from sklearn.datasets import load_iris"
   ]
  },
  {
   "cell_type": "code",
   "execution_count": 44,
   "metadata": {},
   "outputs": [
    {
     "data": {
      "image/png": "[encoded data removed]",
      "text/plain": [
       "<Figure size 432x288 with 1 Axes>"
      ]
     },
     "metadata": {
      "needs_background": "light"
     },
     "output_type": "display_data"
    }
   ],
   "source": [
    "data = load_iris()\n",
    "y = data.target#标签\n",
    "X = data.data#原始特征向量为四位\n",
    "reduced_x = PCA(X,2) #reduced_x为降维后的数据\n",
    "red_x, red_y = [], []\n",
    "blue_x, blue_y = [], []\n",
    "green_x, green_y = [], []\n",
    " \n",
    "for i in range(len(reduced_x)):#对不同花打点并着上不同色\n",
    "    if y[i] == 0:\n",
    "        red_x.append(reduced_x[i][0])\n",
    "        red_y.append(reduced_x[i][1])\n",
    "    elif y[i] == 1:\n",
    "        blue_x.append(reduced_x[i][0])\n",
    "        blue_y.append(reduced_x[i][1])\n",
    "    else:\n",
    "        green_x.append(reduced_x[i][0])\n",
    "        green_y.append(reduced_x[i][1])\n",
    "# 可视化\n",
    "plt.scatter(red_x, red_y, c='r', marker='x')\n",
    "plt.scatter(blue_x, blue_y, c='b', marker='D')\n",
    "plt.scatter(green_x, green_y, c='g', marker='.')\n",
    "plt.show()#可以看出对四位的特征向量降维后，数据较好的聚类在了一起"
   ]
  }
 ],
 "metadata": {
  "kernelspec": {
   "display_name": "Python 3",
   "language": "python",
   "name": "python3"
  },
  "language_info": {
   "codemirror_mode": {
    "name": "ipython",
    "version": 3
   },
   "file_extension": ".py",
   "mimetype": "text/x-python",
   "name": "python",
   "nbconvert_exporter": "python",
   "pygments_lexer": "ipython3",
   "version": "3.7.0"
  }
 },
 "nbformat": 4,
 "nbformat_minor": 2
}
