{
 "cells": [
  {
   "cell_type": "markdown",
   "metadata": {},
   "source": [
    "+ 感知机对偶形式算法步骤\n",
    "![](https://timgsa.baidu.com/timg?image&quality=80&size=b9999_10000&sec=1553575213207&di=72e2138e1a5de7af5dc2224d7294bccc&imgtype=0&src=http%3A%2F%2Fmmbiz.qpic.cn%2Fmmbiz_jpg%2FjXQJ6b7CBHrsdDkJxVIV0lGMnzRtm1esvtuxUibicP1dmLf5klicFjeIT0E3qkUgTmW9LMfObW5JdzNxbb2daBk2w%2F640%3Fwx_fmt%3Djpeg)"
   ]
  },
  {
   "cell_type": "code",
   "execution_count": 1,
   "metadata": {},
   "outputs": [],
   "source": [
    "import pandas as pd \n",
    "import numpy as np "
   ]
  },
  {
   "cell_type": "markdown",
   "metadata": {},
   "source": [
    "+ 加载数据"
   ]
  },
  {
   "cell_type": "code",
   "execution_count": 2,
   "metadata": {},
   "outputs": [
    {
     "data": {
      "text/html": [
       "<div>\n",
       "<style scoped>\n",
       "    .dataframe tbody tr th:only-of-type {\n",
       "        vertical-align: middle;\n",
       "    }\n",
       "\n",
       "    .dataframe tbody tr th {\n",
       "        vertical-align: top;\n",
       "    }\n",
       "\n",
       "    .dataframe thead th {\n",
       "        text-align: right;\n",
       "    }\n",
       "</style>\n",
       "<table border=\"1\" class=\"dataframe\">\n",
       "  <thead>\n",
       "    <tr style=\"text-align: right;\">\n",
       "      <th></th>\n",
       "      <th>x1</th>\n",
       "      <th>x2</th>\n",
       "      <th>label</th>\n",
       "    </tr>\n",
       "  </thead>\n",
       "  <tbody>\n",
       "    <tr>\n",
       "      <th>0</th>\n",
       "      <td>0</td>\n",
       "      <td>14</td>\n",
       "      <td>-1</td>\n",
       "    </tr>\n",
       "    <tr>\n",
       "      <th>1</th>\n",
       "      <td>-1</td>\n",
       "      <td>5</td>\n",
       "      <td>1</td>\n",
       "    </tr>\n",
       "    <tr>\n",
       "      <th>2</th>\n",
       "      <td>-1</td>\n",
       "      <td>7</td>\n",
       "      <td>-1</td>\n",
       "    </tr>\n",
       "    <tr>\n",
       "      <th>3</th>\n",
       "      <td>-1</td>\n",
       "      <td>7</td>\n",
       "      <td>-1</td>\n",
       "    </tr>\n",
       "    <tr>\n",
       "      <th>4</th>\n",
       "      <td>0</td>\n",
       "      <td>11</td>\n",
       "      <td>-1</td>\n",
       "    </tr>\n",
       "  </tbody>\n",
       "</table>\n",
       "</div>"
      ],
      "text/plain": [
       "   x1  x2  label\n",
       "0   0  14     -1\n",
       "1  -1   5      1\n",
       "2  -1   7     -1\n",
       "3  -1   7     -1\n",
       "4   0  11     -1"
      ]
     },
     "execution_count": 2,
     "metadata": {},
     "output_type": "execute_result"
    }
   ],
   "source": [
    "data = pd.read_csv('./data.csv')\n",
    "data.head()"
   ]
  },
  {
   "cell_type": "code",
   "execution_count": 3,
   "metadata": {},
   "outputs": [
    {
     "data": {
      "text/plain": [
       "(3, 15)"
      ]
     },
     "execution_count": 3,
     "metadata": {},
     "output_type": "execute_result"
    }
   ],
   "source": [
    "data['x1'].max(),data['x2'].max()"
   ]
  },
  {
   "cell_type": "markdown",
   "metadata": {},
   "source": [
    "+ 分离数据"
   ]
  },
  {
   "cell_type": "code",
   "execution_count": 4,
   "metadata": {},
   "outputs": [],
   "source": [
    "y = data['label'] #pandas.series\n",
    "X=data.drop(columns=['label']) #DataFrame"
   ]
  },
  {
   "cell_type": "markdown",
   "metadata": {},
   "source": [
    "+ 定义Gram对偶形式中训练实例以内积形式出现，为了方便，可以预先将训练集中实例间的内积计算出来并存在矩阵形式计算出来"
   ]
  },
  {
   "cell_type": "code",
   "execution_count": 5,
   "metadata": {},
   "outputs": [],
   "source": [
    "Gram = []\n",
    "for i in range(len(X)):\n",
    "    x1 = X.loc[i,'x1']\n",
    "    x2 = X.loc[i,'x2']\n",
    "    for j in range(len(X)):\n",
    "        val =  x1*X.loc[j,'x1']+x2*X.loc[j,'x2']\n",
    "        Gram.append(val)\n",
    "Gram = np.reshape(Gram,[len(X),-1])"
   ]
  },
  {
   "cell_type": "markdown",
   "metadata": {},
   "source": [
    "+ 定义一些变量"
   ]
  },
  {
   "cell_type": "code",
   "execution_count": 6,
   "metadata": {},
   "outputs": [],
   "source": [
    "data_nums = len(X)\n",
    "w = []\n",
    "alpha = [0]*data_nums\n",
    "b =0\n",
    "ita = 0.001"
   ]
  },
  {
   "cell_type": "markdown",
   "metadata": {},
   "source": [
    "+ 迭代训练过程，对应算法步骤的（2）~（4）步"
   ]
  },
  {
   "cell_type": "code",
   "execution_count": 7,
   "metadata": {},
   "outputs": [
    {
     "name": "stdout",
     "output_type": "stream",
     "text": [
      "after 20000 steps training\n"
     ]
    }
   ],
   "source": [
    "maxepoll = 20000 #最大训练轮数\n",
    "step = 0\n",
    "while step < maxepoll:\n",
    "    #print(\"step is {0}\".format(step))\n",
    "    i = 0\n",
    "    while i < data_nums:\n",
    "        res = y[i]*(sum(np.multiply(alpha,np.multiply(np.array(y.tolist()),Gram[i])))+b)#遇到分类错误情况则迭代参数\n",
    "        if res <=0:\n",
    "            alpha[i] += ita\n",
    "            b += ita*y[i]\n",
    "            break \n",
    "        i +=1\n",
    "    if i == data_nums:\n",
    "        break\n",
    "    step +=1\n",
    "print(\"after {0} steps training\".format(step))"
   ]
  },
  {
   "cell_type": "markdown",
   "metadata": {},
   "source": [
    "+ 计算w"
   ]
  },
  {
   "cell_type": "code",
   "execution_count": 8,
   "metadata": {},
   "outputs": [
    {
     "data": {
      "text/plain": [
       "array([ 0.004, -0.019])"
      ]
     },
     "execution_count": 8,
     "metadata": {},
     "output_type": "execute_result"
    }
   ],
   "source": [
    "w = np.multiply(alpha,y.tolist())\n",
    "w = np.dot(w.T,X.values)\n",
    "w"
   ]
  },
  {
   "cell_type": "code",
   "execution_count": 9,
   "metadata": {},
   "outputs": [
    {
     "data": {
      "text/plain": [
       "0.1380000000000001"
      ]
     },
     "execution_count": 9,
     "metadata": {},
     "output_type": "execute_result"
    }
   ],
   "source": [
    "b"
   ]
  },
  {
   "cell_type": "markdown",
   "metadata": {},
   "source": [
    "+ 做预测"
   ]
  },
  {
   "cell_type": "code",
   "execution_count": 10,
   "metadata": {},
   "outputs": [],
   "source": [
    "pred = np.dot(X.values,w)\n",
    "pred = [x + b for x in pred]\n",
    "pred = [1 if x>0 else -1 for x in pred]"
   ]
  },
  {
   "cell_type": "markdown",
   "metadata": {},
   "source": [
    "+ 计算正确率"
   ]
  },
  {
   "cell_type": "code",
   "execution_count": 11,
   "metadata": {},
   "outputs": [
    {
     "name": "stdout",
     "output_type": "stream",
     "text": [
      "accuracy is 0.93\n"
     ]
    }
   ],
   "source": [
    "count = 0\n",
    "for i in range(data_nums):\n",
    "    if y[i]==pred[i]:\n",
    "        count+=1\n",
    "print(\"accuracy is {0}\".format(count/data_nums))"
   ]
  },
  {
   "cell_type": "markdown",
   "metadata": {},
   "source": [
    "+ 画分类边界线"
   ]
  },
  {
   "cell_type": "code",
   "execution_count": 13,
   "metadata": {},
   "outputs": [
    {
     "data": {
      "image/png": "[encoded data removed]",
      "text/plain": [
       "<Figure size 432x288 with 1 Axes>"
      ]
     },
     "metadata": {
      "needs_background": "light"
     },
     "output_type": "display_data"
    }
   ],
   "source": [
    "import matplotlib.pyplot as plt\n",
    "#由于特征只有两种，分类边界线是直线，可以只取两点画线\n",
    "# 直线第一个坐标（x1_1，x2_1）\n",
    "x1_1 = -5\n",
    "x2_1 = -1 / w[1] * (b+ w[0] * x1)\n",
    "# 直线第二个坐标（x1_2，x2_2）\n",
    "x1_2 = 5\n",
    "x2_2 = -1 / w[1] * (b+ w[0] * x2)\n",
    "# 作图\n",
    "plt.scatter(data.loc[data['label']>0,'x1'].values, data.loc[data['label']>0,'x2'].values, color='blue', marker='o', label='Positive')\n",
    "plt.scatter(data.loc[data['label']<0,'x1'].values, data.loc[data['label']<0,'x2'].values, color='red', marker='x', label='Negative')\n",
    "plt.plot([x1_1,x2_1], [x1_2,x2_2],'r')\n",
    "plt.xlabel('Feature 1')\n",
    "plt.ylabel('Feature 2')\n",
    "plt.legend(loc = 'upper left')\n",
    "plt.show()"
   ]
  }
 ],
 "metadata": {
  "kernelspec": {
   "display_name": "Python 3",
   "language": "python",
   "name": "python3"
  },
  "language_info": {
   "codemirror_mode": {
    "name": "ipython",
    "version": 3
   },
   "file_extension": ".py",
   "mimetype": "text/x-python",
   "name": "python",
   "nbconvert_exporter": "python",
   "pygments_lexer": "ipython3",
   "version": "3.7.0"
  }
 },
 "nbformat": 4,
 "nbformat_minor": 2
}
