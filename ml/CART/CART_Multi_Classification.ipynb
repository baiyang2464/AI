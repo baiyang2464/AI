{
 "cells": [
  {
   "cell_type": "code",
   "execution_count": 13,
   "metadata": {},
   "outputs": [],
   "source": [
    "import pandas as pd \n",
    "import numpy as np \n",
    "import sys \n",
    "import copy "
   ]
  },
  {
   "cell_type": "code",
   "execution_count": 14,
   "metadata": {},
   "outputs": [],
   "source": [
    "#定义树结点的基本结构，建树及划分方法\n",
    "class RT:\n",
    "    def __init__(self,data,y):\n",
    "        self.data=data\n",
    "        self.y = y #该条样本对应的标准值\n",
    "        self.j = None #最优划分特征的index\n",
    "        self.s = None #最优划分特征的最优切分点\n",
    "        self.left = None #左子树\n",
    "        self.right = None #右子树\n",
    "        self.isLeaf = True #是否是叶子结点\n",
    "        self.pred = None #该结点若是叶子结点，则其对应的预测值\n",
    "        self.grown() #创建RT对象时就建立树\n",
    "    #最优划分的标准——当前特征划分值来划分样本后得到的均方误差\n",
    "    #基尼系数\n",
    "    def gini(self,index):\n",
    "        #基尼指数越大，被被划分后的集合不确定性越大\n",
    "        p = len(index)/len(self.y)\n",
    "        return 2*p*(1-p)\n",
    "    #找最优划分的方法\n",
    "    def bestSlice(self):\n",
    "        #找到最优的j,s\n",
    "        mingini = sys.maxsize\n",
    "        j_best=None\n",
    "        s_best= None#(self.data[self.sliceIndex[0],0]+self.data[self.sliceIndex[1],0])/2\n",
    "        for j in range(self.data.shape[1]):#遍历所有特征\n",
    "            col = np.sort(self.data[:,j]) #一列数据取划分点时先排序，否则切分点不能完全将数据划分开\n",
    "            s_ready = (col[1:]+col[:-1])/2 #所有数据该特征的预备的切分点\n",
    "            for s in s_ready:\n",
    "                R1 =[]\n",
    "                R1 = [index for index in range(len(col)) if col[index] <s ]\n",
    "                gini = self.gini(R1)\n",
    "                if mingini > gini:\n",
    "                    j_best = j \n",
    "                    s_best = s\n",
    "        return j_best,s_best\n",
    "    #寻找“众数”的函数\n",
    "    def findMode(self,nums):\n",
    "        nums=np.sort(nums)\n",
    "        maxlen = 0\n",
    "        count =1\n",
    "        val =nums[0]\n",
    "        for i in range(1,len(nums)):\n",
    "            if nums[i] == nums[i-1]:\n",
    "                count+=1\n",
    "                if count > maxlen:\n",
    "                    maxlen = count\n",
    "                    count =1\n",
    "                    val = nums[i]\n",
    "        return val\n",
    "    \n",
    "    #建立树\n",
    "    def grown(self):\n",
    "        tmpy = copy.deepcopy(self.y)\n",
    "        self.pred = self.findMode(tmpy)\n",
    "        nums = self.data.shape[0]\n",
    "        if nums<2:\n",
    "            return\n",
    "        j,s = self.bestSlice()\n",
    "        self.j = j \n",
    "        self.s = s \n",
    "        \n",
    "        leftIndex ,rightIndex =[],[]\n",
    "        for i in range(nums):\n",
    "            if self.data[i,j] < s:\n",
    "                leftIndex.append(i)\n",
    "            else: rightIndex.append(i)\n",
    "        if len(leftIndex)==0 or len(leftIndex) == len(self.y):\n",
    "            return\n",
    "        self.isLeaf = False\n",
    "        self.left = RT(self.data[leftIndex,:],self.y[leftIndex]) #用划分后的数据构建子树\n",
    "        self.right =RT(self.data[rightIndex,:],self.y[rightIndex])"
   ]
  },
  {
   "cell_type": "code",
   "execution_count": 15,
   "metadata": {},
   "outputs": [],
   "source": [
    "#预测\n",
    "def prediction(T,x):\n",
    "    if T.isLeaf:\n",
    "        return T.pred\n",
    "    else:\n",
    "        if x[T.j] < T.s:\n",
    "            return prediction(T.left,x)\n",
    "        else: return prediction(T.right,x)\n",
    "#算准确率\n",
    "def accuracy(T,X,y):\n",
    "    pred = [prediction(T,X[i,:]) for i in range(X.shape[0])]\n",
    "    df = pd.DataFrame({'pred':pred,'label':y})\n",
    "    count = 0\n",
    "    for i in range(len(y)):\n",
    "        if pred[i]==y[i]:\n",
    "            count+=1 \n",
    "    return count/len(y)"
   ]
  },
  {
   "cell_type": "code",
   "execution_count": 16,
   "metadata": {},
   "outputs": [],
   "source": [
    "iris = pd.read_csv('./iris.csv')"
   ]
  },
  {
   "cell_type": "code",
   "execution_count": 17,
   "metadata": {},
   "outputs": [
    {
     "data": {
      "text/html": [
       "<div>\n",
       "<style scoped>\n",
       "    .dataframe tbody tr th:only-of-type {\n",
       "        vertical-align: middle;\n",
       "    }\n",
       "\n",
       "    .dataframe tbody tr th {\n",
       "        vertical-align: top;\n",
       "    }\n",
       "\n",
       "    .dataframe thead th {\n",
       "        text-align: right;\n",
       "    }\n",
       "</style>\n",
       "<table border=\"1\" class=\"dataframe\">\n",
       "  <thead>\n",
       "    <tr style=\"text-align: right;\">\n",
       "      <th></th>\n",
       "      <th>Unnamed: 0</th>\n",
       "      <th>Sepal.Length</th>\n",
       "      <th>Sepal.Width</th>\n",
       "      <th>Petal.Length</th>\n",
       "      <th>Petal.Width</th>\n",
       "      <th>Species</th>\n",
       "    </tr>\n",
       "  </thead>\n",
       "  <tbody>\n",
       "    <tr>\n",
       "      <th>0</th>\n",
       "      <td>112</td>\n",
       "      <td>6.4</td>\n",
       "      <td>2.7</td>\n",
       "      <td>5.3</td>\n",
       "      <td>1.9</td>\n",
       "      <td>virginica</td>\n",
       "    </tr>\n",
       "    <tr>\n",
       "      <th>1</th>\n",
       "      <td>88</td>\n",
       "      <td>6.3</td>\n",
       "      <td>2.3</td>\n",
       "      <td>4.4</td>\n",
       "      <td>1.3</td>\n",
       "      <td>versicolor</td>\n",
       "    </tr>\n",
       "    <tr>\n",
       "      <th>2</th>\n",
       "      <td>14</td>\n",
       "      <td>4.3</td>\n",
       "      <td>3.0</td>\n",
       "      <td>1.1</td>\n",
       "      <td>0.1</td>\n",
       "      <td>setosa</td>\n",
       "    </tr>\n",
       "    <tr>\n",
       "      <th>3</th>\n",
       "      <td>60</td>\n",
       "      <td>5.2</td>\n",
       "      <td>2.7</td>\n",
       "      <td>3.9</td>\n",
       "      <td>1.4</td>\n",
       "      <td>versicolor</td>\n",
       "    </tr>\n",
       "    <tr>\n",
       "      <th>4</th>\n",
       "      <td>102</td>\n",
       "      <td>5.8</td>\n",
       "      <td>2.7</td>\n",
       "      <td>5.1</td>\n",
       "      <td>1.9</td>\n",
       "      <td>virginica</td>\n",
       "    </tr>\n",
       "  </tbody>\n",
       "</table>\n",
       "</div>"
      ],
      "text/plain": [
       "   Unnamed: 0  Sepal.Length  Sepal.Width  Petal.Length  Petal.Width  \\\n",
       "0         112           6.4          2.7           5.3          1.9   \n",
       "1          88           6.3          2.3           4.4          1.3   \n",
       "2          14           4.3          3.0           1.1          0.1   \n",
       "3          60           5.2          2.7           3.9          1.4   \n",
       "4         102           5.8          2.7           5.1          1.9   \n",
       "\n",
       "      Species  \n",
       "0   virginica  \n",
       "1  versicolor  \n",
       "2      setosa  \n",
       "3  versicolor  \n",
       "4   virginica  "
      ]
     },
     "execution_count": 17,
     "metadata": {},
     "output_type": "execute_result"
    }
   ],
   "source": [
    "iris=iris.sample(frac=1).reset_index(drop=True) #打乱数据\n",
    "iris.head()"
   ]
  },
  {
   "cell_type": "code",
   "execution_count": 19,
   "metadata": {},
   "outputs": [
    {
     "data": {
      "text/plain": [
       "0    2\n",
       "1    1\n",
       "2    0\n",
       "3    1\n",
       "4    2\n",
       "Name: Species, dtype: int64"
      ]
     },
     "execution_count": 19,
     "metadata": {},
     "output_type": "execute_result"
    }
   ],
   "source": [
    "catogory = {'setosa':0,'versicolor':1,'virginica':2} #将分类做映射，学习器只能输入数值类型的数据\n",
    "iris_y = iris['Species'].map(catogory)\n",
    "iris_y.head()"
   ]
  },
  {
   "cell_type": "code",
   "execution_count": 20,
   "metadata": {},
   "outputs": [],
   "source": [
    "iris_dv=iris.drop(columns='Species',axis=1).values #取所有数据要跑很久，所以只取了部分数据"
   ]
  },
  {
   "cell_type": "code",
   "execution_count": 21,
   "metadata": {},
   "outputs": [],
   "source": [
    "tree = RT(iris_dv,iris_y.values) #建立一颗CART分类树"
   ]
  },
  {
   "cell_type": "code",
   "execution_count": 22,
   "metadata": {},
   "outputs": [
    {
     "data": {
      "text/plain": [
       "0.9066666666666666"
      ]
     },
     "execution_count": 22,
     "metadata": {},
     "output_type": "execute_result"
    }
   ],
   "source": [
    "auc = accuracy(tree,iris_dv,iris_y.values) #算准确率，用训练数据当作测试数据，准确率较高\n",
    "auc "
   ]
  }
 ],
 "metadata": {
  "kernelspec": {
   "display_name": "Python 3",
   "language": "python",
   "name": "python3"
  },
  "language_info": {
   "codemirror_mode": {
    "name": "ipython",
    "version": 3
   },
   "file_extension": ".py",
   "mimetype": "text/x-python",
   "name": "python",
   "nbconvert_exporter": "python",
   "pygments_lexer": "ipython3",
   "version": "3.7.0"
  }
 },
 "nbformat": 4,
 "nbformat_minor": 2
}
