{
 "cells": [
  {
   "cell_type": "code",
   "execution_count": 2,
   "metadata": {},
   "outputs": [],
   "source": [
    "import pandas as pd \n",
    "import numpy as np \n",
    "import sys \n",
    "import copy "
   ]
  },
  {
   "cell_type": "code",
   "execution_count": 3,
   "metadata": {},
   "outputs": [],
   "source": [
    "#定义树结点的基本结构，建树及划分方法\n",
    "class RT:\n",
    "    def __init__(self,data,y):\n",
    "        self.data=data\n",
    "        self.y = y #该条样本对应的标准值\n",
    "        self.j = None #最优划分特征的index\n",
    "        self.s = None #最优划分特征的最优切分点\n",
    "        self.left = None #左子树\n",
    "        self.right = None #右子树\n",
    "        self.isLeaf = True #是否是叶子结点\n",
    "        self.pred = None #该结点若是叶子结点，则其对应的预测值\n",
    "        self.grown() #创建RT对象时就建立树\n",
    "    #最优划分的标准——当前特征划分值来划分样本后得到的均方误差\n",
    "    def err(self,index):\n",
    "        c = np.mean(self.y[index])\n",
    "        return np.mean(np.square([c-self.y[i] for i in range(len(self.y))]))\n",
    "    #找最优划分的方法\n",
    "    def bestSlice(self):\n",
    "        #找到最优的j,s\n",
    "        minerr = sys.maxsize\n",
    "        j_best=None\n",
    "        s_best= None#(self.data[self.sliceIndex[0],0]+self.data[self.sliceIndex[1],0])/2\n",
    "        for j in range(self.data.shape[1]):#遍历所有特征\n",
    "            col = np.sort(self.data[:,j]) #一列数据取划分点时先排序，否则切分点不能完全将数据划分开\n",
    "            s_ready = (col[1:]+col[:-1])/2 #所有数据该特征的预备的切分点\n",
    "            for s in s_ready:\n",
    "                R1,R2 = [],[]\n",
    "                R1 = [index for index in range(len(col)) if col[index] <s ]\n",
    "                R2 = [index for index in range(len(col)) if col[index] >=s]\n",
    "                err = self.err(R1)+self.err(R2)\n",
    "                if minerr > err:\n",
    "                    j_best = j \n",
    "                    s_best = s\n",
    "        return j_best,s_best\n",
    "    #建立树\n",
    "    def grown(self):\n",
    "        self.pred = np.mean(self.y)\n",
    "        nums = self.data.shape[0]\n",
    "        if nums<2:\n",
    "            return\n",
    "        j,s = self.bestSlice()\n",
    "        self.j = j \n",
    "        self.s = s \n",
    "        self.isLeaf = False\n",
    "        leftIndex ,rightIndex =[],[]\n",
    "        for i in range(nums):\n",
    "        #for i in self.sliceIndex:\n",
    "            if self.data[i,j] < s:\n",
    "                leftIndex.append(i)\n",
    "            else: rightIndex.append(i)\n",
    "        self.left = RT(self.data[leftIndex,:],self.y[leftIndex]) #用划分后的数据构建子树\n",
    "        self.right =RT(self.data[rightIndex,:],self.y[rightIndex])"
   ]
  },
  {
   "cell_type": "code",
   "execution_count": 4,
   "metadata": {},
   "outputs": [],
   "source": [
    "#预测\n",
    "def prediction(T,x):\n",
    "    if T.isLeaf:\n",
    "        return T.pred\n",
    "    else:\n",
    "        if x[T.j] < T.s:\n",
    "            return prediction(T.left,x)\n",
    "        else: return prediction(T.right,x)\n",
    "#算均方根误差 及 对比预测数据和标签值\n",
    "def rootMeanSquareError(T,X,y):\n",
    "    pred = [prediction(T,X[i,:]) for i in range(X.shape[0])]\n",
    "    df = pd.DataFrame({'pred':pred,'label':y})\n",
    "    return np.sqrt(np.mean(np.square([pred[i]-y[i] for i in range(len(y))])))"
   ]
  },
  {
   "cell_type": "code",
   "execution_count": 5,
   "metadata": {},
   "outputs": [],
   "source": [
    "data = pd.read_csv(\"./housing.csv\")\n",
    "y = data['MEDV'].values #标签值\n",
    "dv_train=data.drop(columns='MEDV',axis=1).iloc[0:50,:].values #取所有数据要跑很久，所以只取了部分数据\n",
    "dv_test=data.drop(columns='MEDV',axis=1).iloc[50:100,:].values #取所有数据要跑很久，所以只取了部分数据"
   ]
  },
  {
   "cell_type": "code",
   "execution_count": 8,
   "metadata": {},
   "outputs": [
    {
     "name": "stderr",
     "output_type": "stream",
     "text": [
      "C:\\Users\\11060\\Anaconda3\\lib\\site-packages\\numpy\\core\\fromnumeric.py:2920: RuntimeWarning: Mean of empty slice.\n",
      "  out=out, **kwargs)\n",
      "C:\\Users\\11060\\Anaconda3\\lib\\site-packages\\numpy\\core\\_methods.py:85: RuntimeWarning: invalid value encountered in double_scalars\n",
      "  ret = ret.dtype.type(ret / rcount)\n"
     ]
    }
   ],
   "source": [
    "tree = RT(dv_train,y) #建立一颗CART回归树"
   ]
  },
  {
   "cell_type": "code",
   "execution_count": 10,
   "metadata": {},
   "outputs": [
    {
     "name": "stdout",
     "output_type": "stream",
     "text": [
      "RMSE is 4.951100887681446\n"
     ]
    }
   ],
   "source": [
    "RMSE = rootMeanSquareError(tree,dv_test,y[50:100]) #算均方根误差 及 对比预测数据和标签值\n",
    "print(\"RMSE is {0}\".format(RMSE)) "
   ]
  }
 ],
 "metadata": {
  "kernelspec": {
   "display_name": "Python 3",
   "language": "python",
   "name": "python3"
  },
  "language_info": {
   "codemirror_mode": {
    "name": "ipython",
    "version": 3
   },
   "file_extension": ".py",
   "mimetype": "text/x-python",
   "name": "python",
   "nbconvert_exporter": "python",
   "pygments_lexer": "ipython3",
   "version": "3.7.0"
  }
 },
 "nbformat": 4,
 "nbformat_minor": 2
}
