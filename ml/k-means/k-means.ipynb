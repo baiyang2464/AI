{
 "cells": [
  {
   "cell_type": "code",
   "execution_count": 3,
   "metadata": {},
   "outputs": [],
   "source": [
    "import numpy as np\n",
    "import pandas as pd \n",
    "import sys "
   ]
  },
  {
   "cell_type": "code",
   "execution_count": null,
   "metadata": {},
   "outputs": [],
   "source": [
    "'''\n",
    "(1)创建k个点作为起始质心，可随机选择(位于数据边界内)\n",
    "　　(2)当任意一个点的簇分配结果发生改变时\n",
    "　　　　(3)对数据集中每一个点\n",
    "　　　　　 (3.1)对每个质心\n",
    "　　　　　　　a.计算质心与数据点之间的距离\n",
    "              b.将数据点分配到距其最近的簇\n",
    "　　　　(4)对每一个簇，计算簇中所有点的均值并将均值作为质心\n",
    "'''"
   ]
  },
  {
   "cell_type": "code",
   "execution_count": 5,
   "metadata": {},
   "outputs": [],
   "source": [
    "#计算两个向量之间的欧式距离\n",
    "def calcDist(vecA,vecB):\n",
    "    return np.sqrt(np.sum(np.power(vecA-vecB,2)))"
   ]
  },
  {
   "cell_type": "code",
   "execution_count": 65,
   "metadata": {},
   "outputs": [],
   "source": [
    "#k-means算法的具体过程，k代表要进行聚类的类别数，需要事先设定\n",
    "#clasterRes 聚类结果\n",
    "#centers 质心坐标\n",
    "def kmeans(dataSet,categoryNums):\n",
    "    m,n = dataSet.shape #数据的维度\n",
    "    clasterRes = np.zeros([m,2])\n",
    "    clasterRes[:,1] = sys.maxsize\n",
    "    #随机初始化k个质心，要在数据的特征值的边界范围之内\n",
    "    centers = np.random.rand(categoryNums,n)\n",
    "    for j in range(n):\n",
    "        colMin = dataSet[:,j].min()#取一列最小值\n",
    "        colRange = dataSet[:,j].max()- colMin #取一列数据的“取值范围”\n",
    "        centers[:,j] = colMin + colRange*np.random.rand(1,categoryNums) #计算初始质心一列特征的取值\n",
    "                                                                       #原始数据的特征值的边界范围之内，随机填充\n",
    "    clasterChanged = True\n",
    "    #若存在一个样本的聚类结果发生改变则继续聚类\n",
    "    while clasterChanged:\n",
    "        clasterChanged = False\n",
    "        #将每一条样本对每个质心计算欧式距离，选取欧式距离最小的质心类别作为该调样本聚类的结果\n",
    "        for i in range(m):\n",
    "            minDsit = clasterRes[i,1] #该条样本最小的距离\n",
    "            minIndex = 0#该条数据聚类结果       \n",
    "            for j in range(categoryNums):\n",
    "                dist = calcDist(centers[j,:],dataSet[i,:])\n",
    "                if dist < minDsit:\n",
    "                    minDsit = dist\n",
    "                    minIndex = j\n",
    "            if clasterRes[i,0] != minIndex:\n",
    "                clasterRes[i] = minIndex,minDsit \n",
    "                clasterChanged = True#存在一条样本聚类结果发生改变\n",
    "        #更新每个聚类中样本的质心\n",
    "        if not clasterChanged :break\n",
    "        for i in range(categoryNums):\n",
    "            l =[j for j in range(m) if clasterRes[j,0] == i]\n",
    "            centers[i,:]=dataSet[l].mean(axis=0)\n",
    "    return clasterRes,centers"
   ]
  },
  {
   "cell_type": "code",
   "execution_count": 72,
   "metadata": {},
   "outputs": [],
   "source": [
    "df = pd.read_csv('./data.csv')\n",
    "data = df.drop(columns=['label'],axis = 1)"
   ]
  },
  {
   "cell_type": "code",
   "execution_count": 75,
   "metadata": {},
   "outputs": [
    {
     "data": {
      "image/png": "[encoded data removed]",
      "text/plain": [
       "<Figure size 432x288 with 1 Axes>"
      ]
     },
     "metadata": {
      "needs_background": "light"
     },
     "output_type": "display_data"
    }
   ],
   "source": [
    "import matplotlib.pyplot as plt\n",
    "# 作图  查看数据的分布情况\n",
    "plt.scatter(df.loc[df['label']==0,'x1'].values, df.loc[df['label']==0,'x2'].values, color='blue', marker='o', label='label_1')\n",
    "plt.scatter(df.loc[df['label']==1,'x1'].values, df.loc[df['label']==1,'x2'].values, color='red', marker='x', label='label_2')\n",
    "plt.scatter(df.loc[df['label']==2,'x1'].values, df.loc[df['label']==2,'x2'].values, color='green', marker='*', label='label_3')\n",
    "plt.xlabel('Feature 1')\n",
    "plt.ylabel('Feature 2')\n",
    "plt.legend(loc = 'upper left')\n",
    "plt.show()"
   ]
  },
  {
   "cell_type": "code",
   "execution_count": 86,
   "metadata": {},
   "outputs": [
    {
     "data": {
      "image/png": "[encoded data removed]",
      "text/plain": [
       "<Figure size 432x288 with 1 Axes>"
      ]
     },
     "metadata": {
      "needs_background": "light"
     },
     "output_type": "display_data"
    }
   ],
   "source": [
    "#进行预测\n",
    "k =3\n",
    "#clasterRes 聚类结果\n",
    "#centers 质心坐标\n",
    "clasterRes,centers = kmeans(data.values,k) \n",
    "df['pred'] = clasterRes[:,0]\n",
    "#查看数据聚类后的情况\n",
    "colorslist = ['blue','green','red']\n",
    "for i in range(k):\n",
    "    plt.scatter(df.loc[df['pred']==i,'x1'].values, df.loc[df['pred']==i,'x2'].values,color=colorslist[i],marker='o',label='label'+str(i))\n",
    "#画出质心点\n",
    "for i in range(k):\n",
    "    plt.scatter(centers[i,0], centers[i,1], color='black', marker='+', label='center'+str(i))\n",
    "plt.xlabel('Feature 1')\n",
    "plt.ylabel('Feature 2')\n",
    "plt.legend(loc = 'upper left')\n",
    "plt.show()"
   ]
  },
  {
   "cell_type": "markdown",
   "metadata": {},
   "source": [
    "+ 用简单的聚类算法数据准确率并不高，上面这个聚类后分类完全正确的结果是取运行了多次后最好的一次结果\n",
    "+ 要想聚类效果较好，可以考虑二分k-means算法"
   ]
  }
 ],
 "metadata": {
  "kernelspec": {
   "display_name": "Python 3",
   "language": "python",
   "name": "python3"
  },
  "language_info": {
   "codemirror_mode": {
    "name": "ipython",
    "version": 3
   },
   "file_extension": ".py",
   "mimetype": "text/x-python",
   "name": "python",
   "nbconvert_exporter": "python",
   "pygments_lexer": "ipython3",
   "version": "3.7.0"
  }
 },
 "nbformat": 4,
 "nbformat_minor": 2
}
